{
 "cells": [
  {
   "cell_type": "markdown",
   "id": "11e2f755",
   "metadata": {},
   "source": [
    "# Backpropagation via Matrix Calculus\n",
    "\n",
    "We will provide matrix-calculus derivations to implementing a reverse-mode autodiff engine, then use it to implement and verify backpropagation across common layers and losses:\n",
    "- Derive vector and matrix form gradients using differentials, the trace trick, and chain rules\n",
    "- Implement a reverse-mode autodiff core (vector-Jacobian products)\n",
    "- Derive and code backprop for: affine $\\rightarrow$ activation $\\rightarrow$ softmax-CE; MSE regression; L2 regularization; BatchNorm (stretch)\n",
    "- Verify gradients with high-precision finite differences on randomized cases\n",
    "- Show performance wins of reverse vs forward mode on wide nets (empirical scaling)"
   ]
  },
  {
   "cell_type": "markdown",
   "id": "b88af6f4",
   "metadata": {},
   "source": [
    "## Setup"
   ]
  },
  {
   "cell_type": "code",
   "execution_count": null,
   "id": "890bc23e",
   "metadata": {},
   "outputs": [],
   "source": [
    "import numpy as np\n",
    "import matplotlib.pyplot as plt\n",
    "np.set_printoptions(precision=3)"
   ]
  }
 ],
 "metadata": {
  "language_info": {
   "name": "python"
  }
 },
 "nbformat": 4,
 "nbformat_minor": 5
}
