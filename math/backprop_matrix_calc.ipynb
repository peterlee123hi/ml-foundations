{
 "cells": [
  {
   "cell_type": "markdown",
   "id": "11e2f755",
   "metadata": {},
   "source": [
    "# Backpropagation via Matrix Calculus\n",
    "\n",
    "We will provide matrix-calculus derivations to implementing a reverse-mode autodiff engine, then use it to implement and verify backpropagation across common layers and losses:\n",
    "- Derive vector and matrix form gradients using differentials, the trace trick, and chain rules\n",
    "- Implement a reverse-mode autodiff core (vector-Jacobian products)\n",
    "- Derive and code backprop for: affine $\\rightarrow$ activation $\\rightarrow$ softmax-CE; MSE regression; L2 regularization; BatchNorm (stretch)\n",
    "- Verify gradients with high-precision finite differences on randomized cases\n",
    "- Show performance wins of reverse vs forward mode on wide nets (empirical scaling)"
   ]
  },
  {
   "cell_type": "markdown",
   "id": "b88af6f4",
   "metadata": {},
   "source": [
    "## Setup"
   ]
  },
  {
   "cell_type": "code",
   "execution_count": 1,
   "id": "890bc23e",
   "metadata": {},
   "outputs": [],
   "source": [
    "import numpy as np\n",
    "import matplotlib.pyplot as plt\n",
    "np.set_printoptions(precision=3)"
   ]
  },
  {
   "cell_type": "markdown",
   "id": "82c635fa",
   "metadata": {},
   "source": [
    "## Matrix Calculus Basics\n",
    "\n",
    "**Differentials & trace trick**\n",
    "- $d(x^T Ay) = (Ay)^T dx + (A^T x)^T dy$\n",
    "- $d \\text{tr}(A^T y) = \\text{tr}(A^T dX) \\implies \\frac{\\partial}{\\partial X}\\text{tr}(A^T X) = A$\n",
    "\n",
    "**Quadratic forms**\n",
    "- $f(X) = \\frac{1}{2}||XW - Y||^2_F \\implies \\nabla_W f = X^T (XW - Y), \\nabla_X f = (XW - Y)W^T$\n",
    "\n",
    "**Softmax + CE (row-wise)**\n",
    "- $softmax(z)_i = \\frac{e^{z_i}}{\\Sigma_j e^{z_j}}, \\ell = -\\Sigma_i y_i \\log s_i \\implies \\nabla_z \\ell = s - y$\n",
    "\n",
    "**Elementwise activations**\n",
    "- $\\nabla_X\\Sigma \\phi (X) = \\phi' (X)$\n",
    "\n",
    "**Chain rules**\n",
    "- Matrix chain: $dL = \\text{tr}(G^T dZ), Z = f(Y), Y = g(X) \\implies G_X = J^T_{Y \\rightarrow X} G_Z$\n",
    "- VJP: given upstream $G$, compute $G \\cdot J$ without forming $J$"
   ]
  }
 ],
 "metadata": {
  "kernelspec": {
   "display_name": ".venv",
   "language": "python",
   "name": "python3"
  },
  "language_info": {
   "codemirror_mode": {
    "name": "ipython",
    "version": 3
   },
   "file_extension": ".py",
   "mimetype": "text/x-python",
   "name": "python",
   "nbconvert_exporter": "python",
   "pygments_lexer": "ipython3",
   "version": "3.9.7"
  }
 },
 "nbformat": 4,
 "nbformat_minor": 5
}
