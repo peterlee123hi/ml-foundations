{
 "cells": [
  {
   "cell_type": "markdown",
   "id": "1d426b9b",
   "metadata": {},
   "source": [
    "# Matrix Decomposition\n",
    "\n",
    "This notebook covers common matrix decomposition methods used in machine learning:\n",
    "- LU Decomposition\n",
    "- QR Decomposition\n",
    "- Eigen Decomposition\n",
    "- Singular Value Decomposition (SVD)\n",
    "- Cholesky Decomposition"
   ]
  },
  {
   "cell_type": "code",
   "execution_count": null,
   "id": "bedd0a86",
   "metadata": {},
   "outputs": [],
   "source": [
    "import numpy as np\n",
    "\n",
    "def gram_schmidt(vectors):\n",
    "    \"\"\"\n",
    "    Perform Gram-Schmidt on a set of vectors\n",
    "\n",
    "    Args:\n",
    "        vectors: A 2D array (n, d) of input vectors\n",
    "\n",
    "    Returns:\n",
    "        A 2D array (n, d) of orthonormal vectors\n",
    "    \"\"\"\n",
    "    pass"
   ]
  }
 ],
 "metadata": {
  "kernelspec": {
   "display_name": ".venv",
   "language": "python",
   "name": "python3"
  },
  "language_info": {
   "codemirror_mode": {
    "name": "ipython",
    "version": 3
   },
   "file_extension": ".py",
   "mimetype": "text/x-python",
   "name": "python",
   "nbconvert_exporter": "python",
   "pygments_lexer": "ipython3",
   "version": "3.12.1"
  }
 },
 "nbformat": 4,
 "nbformat_minor": 5
}
