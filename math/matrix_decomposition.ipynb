{
 "cells": [
  {
   "cell_type": "markdown",
   "id": "1d426b9b",
   "metadata": {},
   "source": [
    "# Matrix Decomposition\n",
    "\n",
    "This notebook covers common matrix decomposition methods used in machine learning:\n",
    "- QR Decomposition\n",
    "- Eigen Decomposition\n",
    "- Singular Value Decomposition (SVD)"
   ]
  },
  {
   "cell_type": "code",
   "execution_count": null,
   "id": "bedd0a86",
   "metadata": {},
   "outputs": [
    {
     "name": "stdout",
     "output_type": "stream",
     "text": [
      "[[1. 0.]\n",
      " [0. 1.]]\n"
     ]
    }
   ],
   "source": [
    "import numpy as np\n",
    "\n",
    "def qr_decomposition(vectors):\n",
    "    \"\"\"\n",
    "    Perform QR decomposition via Gram-Schmidt on a set of vectors\n",
    "\n",
    "    Args:\n",
    "        vectors: A 2D np.array (n, m), where each column is a vector of length n\n",
    "\n",
    "    Returns:\n",
    "        A 2D np.array (n, m) of orthonormal columns\n",
    "    \"\"\"\n",
    "    A = vectors.copy().astype(float)\n",
    "\n",
    "    # [TODO: migrate from gram-schmidt to compute R in QR as well and return both Q and R]\n",
    "\n",
    "    # We can normalize beforehand to simplify projecting each vector onto every other vector\n",
    "    # But that may lead to floating point errors, so let's prefer the standard method\n",
    "    num_columns = A.shape[1]\n",
    "    for j1 in range(num_columns):\n",
    "        vec_j1= A[:,j1]\n",
    "\n",
    "        # Subtract projections of vec_j1 on previous vectors\n",
    "        for j2 in range(j1):\n",
    "            vec_j2 = A[:,j2]\n",
    "\n",
    "            # Normalize vec_j2\n",
    "            mag_j2 = np.sqrt(np.sum(vec_j2 * vec_j2))\n",
    "            norm_vec_j2 = vec_j2 / mag_j2\n",
    "\n",
    "            # Get the scalar projection of vec_j1 onto vec_j2:\n",
    "            # The scalar projection is typically vec_j1 @ vec_j2 / ||vec_j2||\n",
    "            # But we have the normalized vector of vec_j2\n",
    "            # And vec_j1 @ norm_vec_j2 = ||vec_j1|| * ||norm_vec_j2|| * cos(theta) = ||vec_j1|| * cos(theta)\n",
    "            # Because vec_j1 is the hypotenus and cos(theta) = adj / hyp\n",
    "            # Thus, ||vec_j1|| * cos(theta) = length of adj = length of vec_j1 projected onto norm_vec_j2\n",
    "            # \"A unit vector’s components are the cosines of its angles with the coordinate axes.\"\n",
    "            scalar_proj_j1 = np.dot(vec_j1, norm_vec_j2)\n",
    "\n",
    "            # Project vec_j1 onto vec_j2\n",
    "            proj_j1_onto_j2 = scalar_proj_j1 * norm_vec_j2\n",
    "\n",
    "            # Subtract the projection from the original vector\n",
    "            vec_j1 -= proj_j1_onto_j2\n",
    "\n",
    "        # Normalize vec_j1\n",
    "        mag_j1 = np.sqrt(np.sum(vec_j1 * vec_j1))\n",
    "        norm_vec_j1 = vec_j1 / mag_j1\n",
    "\n",
    "        # Replace vector in A\n",
    "        A[:,j1] = norm_vec_j1\n",
    "\n",
    "    return A\n",
    "\n",
    "\n",
    "sample_vectors = np.array([[1, 2], [0, 2]])\n",
    "print(qr_decomposition(sample_vectors))"
   ]
  }
 ],
 "metadata": {
  "kernelspec": {
   "display_name": ".venv",
   "language": "python",
   "name": "python3"
  },
  "language_info": {
   "codemirror_mode": {
    "name": "ipython",
    "version": 3
   },
   "file_extension": ".py",
   "mimetype": "text/x-python",
   "name": "python",
   "nbconvert_exporter": "python",
   "pygments_lexer": "ipython3",
   "version": "3.12.1"
  }
 },
 "nbformat": 4,
 "nbformat_minor": 5
}
