{
 "cells": [
  {
   "cell_type": "markdown",
   "id": "09d8758a",
   "metadata": {},
   "source": [
    "# Numerical Optimization\n",
    "\n",
    "Note to self: this is self-contained, will cover each optimizer with explicit functions and gradients, and will focus on math with minimal implementation. It is separate from the minigrad project, although the minigrad project will involve re-implementing some optimizers for the specific data classes in the library."
   ]
  }
 ],
 "metadata": {
  "language_info": {
   "name": "python"
  }
 },
 "nbformat": 4,
 "nbformat_minor": 5
}
