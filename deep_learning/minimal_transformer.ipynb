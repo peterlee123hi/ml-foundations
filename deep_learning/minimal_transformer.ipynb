{
 "cells": [
  {
   "cell_type": "markdown",
   "id": "0386700b",
   "metadata": {},
   "source": [
    "# Minimal Transformer (PyTorch)\n",
    "\n",
    "This notebook contains a minimal implementation of the Transformer architecture using PyTorch's autograd engine. It covers the core building blocks of attention-based models:\n",
    "- Scaled Dot-Product Attention: compute attention weights from queries, keys, and values\n",
    "- Multi-Head Attention: project into multiple subspaces and combine parallel attention heads\n",
    "- Residual Connections and LayerNorm: stabilize training with skip connections and normalization\n",
    "- Feed-Forward Network with GELU: apply non-linear transformations between attention layers\n",
    "- Encoder and Decoder Blocks: stack layers to form the Transformer backbone"
   ]
  },
  {
   "cell_type": "code",
   "execution_count": 3,
   "id": "4c618e40",
   "metadata": {},
   "outputs": [
    {
     "data": {
      "text/plain": [
       "<torch._C.Generator at 0x117c77ab0>"
      ]
     },
     "execution_count": 3,
     "metadata": {},
     "output_type": "execute_result"
    }
   ],
   "source": [
    "import numpy as np\n",
    "import matplotlib.pyplot as plt\n",
    "import tqdm\n",
    "np.set_printoptions(precision=3)\n",
    "np.random.seed(0)\n",
    "\n",
    "import torch\n",
    "import torch.nn as nn\n",
    "import torch.nn.functional as F\n",
    "import torch.optim as optim\n",
    "torch.manual_seed(0)"
   ]
  },
  {
   "cell_type": "markdown",
   "id": "b19cfcaf",
   "metadata": {},
   "source": [
    "## Scaled Dot-Product Attention\n",
    "\n",
    "The goal of attention is to decide **how much each token should look at other tokens** when forming a new representation."
   ]
  },
  {
   "cell_type": "markdown",
   "id": "252f8dfb",
   "metadata": {},
   "source": [
    "### Tokens and Embeddings\n",
    "\n",
    "Before attention, raw text is turned into vectors through **tokenization** and **embedding**. Tokenization splits a sentence into smaller units. In practice, this is usually **subword pieces** (e.g. \"Transformers\" $\\rightarrow$ [\"Trans\", \"former\", \"s\"]), each mapped to an integer ID from the vocabulary.\n",
    "\n",
    "Each ID is then mapped to a **word embedding**, a vector of size $d_{model}$ (often 128–1024+). A **positional encoding** is often added to represent where each token appears in the sequence. After this step, a sequence of length $n$ is represented as a matrix of shape $(n, d_{model})$ where each row is a token.\n",
    "\n",
    "From this input matrix, the model forms three projections, queries $Q$, keys $K$, and values $V$. Each is obtained by multiplying the input matrix by a different weight matrix ($W_Q$, $W_K$, $W_V$). Intuitively, each token produces a query that asks what it wants, a key that signals what it offers, and a value that carries the content to be shared. These are the inputs to the attention mechanism.\n"
   ]
  },
  {
   "cell_type": "markdown",
   "id": "6b62a82e",
   "metadata": {},
   "source": [
    "### Mechanism\n",
    "\n",
    "Attention works by comparing queries and keys to decide how much weight to give each value. First, we compute similarity scores between every query and key.\n",
    "\n",
    "$$\n",
    "scores = Q K^T\n",
    "$$\n",
    "\n",
    "To prevent these values from growing too large as the dimension $d_k$ increases, the scores tend to be scaled.\n",
    "\n",
    "$$\n",
    "scores_{scaled} = \\frac{Q K^T}{\\sqrt{d_k}}\n",
    "$$\n",
    "\n",
    "The scaled scores are then passed through a softmax, which normalizes each row into a probability distribution (so the sum of all entries is $1$).\n",
    "\n",
    "$$\n",
    "\\alpha = \\text{softmax}(scores_{scaled})\n",
    "$$\n",
    "\n",
    "Finally, the output of attention is obtained by weighting the values by these probabilities:\n",
    "\n",
    "$$\n",
    "\\text{Attention}(Q, K, V) = \\alpha V\n",
    "$$\n",
    "\n",
    "In words, each token's new representation is a weighted combination of the value vectors of all tokens in the sequence."
   ]
  },
  {
   "cell_type": "markdown",
   "id": "3a0349f4",
   "metadata": {},
   "source": [
    "### Masking\n",
    "\n",
    "Sometimes we want to restrict which tokens can attend to which others. This is done with a **mask** applied to the attention scores before the softmax.\n",
    "\n",
    "- **Padding mask:** prevents the model from attending to padded positions in sequences of different lengths.\n",
    "- **Causal mask:** prevents a token from looking ahead at future tokens, which is required in the decoder for autoregressive generation.\n",
    "\n",
    "In practice, masked positions are set to $-\\infty$ so that their softmax probability becomes zero."
   ]
  },
  {
   "cell_type": "code",
   "execution_count": null,
   "id": "b5069a44",
   "metadata": {},
   "outputs": [],
   "source": [
    "def scaled_dot_product_attention(Q, K, V, mask=None):\n",
    "    # Normalizing factor for stability\n",
    "    d_k = Q.size(-1)\n",
    "\n",
    "    # Compute similarity scores between queries and keys\n",
    "    scores = Q @ K.transpose(-2, -1) / d_k**0.5\n",
    "\n",
    "    # Apply optional mask\n",
    "    if mask is not None:\n",
    "        scores = scores.masked_fill(mask == 0, float('-inf'))\n",
    "\n",
    "    # Convert to probability distribution\n",
    "    weights = F.softmax(scores, dim=-1)\n",
    "\n",
    "    # Get weighted average of value vectors based on similarity scores of queries and keys\n",
    "    return weights @ V"
   ]
  },
  {
   "cell_type": "markdown",
   "id": "2553aaeb",
   "metadata": {},
   "source": [
    "## Multi-Head Attention"
   ]
  },
  {
   "cell_type": "markdown",
   "id": "158b07a5",
   "metadata": {},
   "source": [
    "## Feedforward Block (FFN, GELU)"
   ]
  },
  {
   "cell_type": "markdown",
   "id": "d961fc6c",
   "metadata": {},
   "source": [
    "## Residual Connections and Layer Norm"
   ]
  },
  {
   "cell_type": "markdown",
   "id": "7634ac1e",
   "metadata": {},
   "source": [
    "## Encoder Block"
   ]
  },
  {
   "cell_type": "markdown",
   "id": "d043da30",
   "metadata": {},
   "source": [
    "## Decoder Block"
   ]
  },
  {
   "cell_type": "markdown",
   "id": "7c1ce0d6",
   "metadata": {},
   "source": [
    "## Transformer Model"
   ]
  },
  {
   "cell_type": "markdown",
   "id": "e2b68c21",
   "metadata": {},
   "source": [
    "## Training and Validation"
   ]
  }
 ],
 "metadata": {
  "kernelspec": {
   "display_name": ".venv",
   "language": "python",
   "name": "python3"
  },
  "language_info": {
   "codemirror_mode": {
    "name": "ipython",
    "version": 3
   },
   "file_extension": ".py",
   "mimetype": "text/x-python",
   "name": "python",
   "nbconvert_exporter": "python",
   "pygments_lexer": "ipython3",
   "version": "3.9.7"
  }
 },
 "nbformat": 4,
 "nbformat_minor": 5
}
