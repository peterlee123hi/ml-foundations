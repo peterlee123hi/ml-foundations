{
 "cells": [
  {
   "cell_type": "markdown",
   "id": "328e4647",
   "metadata": {},
   "source": [
    "# Minigrad Autodiff Engine\n",
    "\n",
    "This notebook contains a minimal implementation of an automatic differentiation engine that supports reverse-mode autodiff on N-dimensional tensors:\n",
    "- Tensor: core data structure and computation graph\n",
    "- Broadcasting & reductions: broadcasting in forward pass and unbroadcasting in backward pass\n",
    "- Matmul: matrix multiplication and its vector-Jacobian products (VJPs)\n",
    "- NN module: neural network library with Linear layers, activations, parameter collection\n",
    "- Experiments: gradient checking, training simple models on toy datasets\n",
    "\n",
    "Note: this project is self contained and won't be shared with CNN / Transformer / Diffusion, those projects will use Pytorch autograd.\n"
   ]
  }
 ],
 "metadata": {
  "language_info": {
   "name": "python"
  }
 },
 "nbformat": 4,
 "nbformat_minor": 5
}
