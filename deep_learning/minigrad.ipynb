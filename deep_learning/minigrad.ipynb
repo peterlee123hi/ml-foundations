{
 "cells": [
  {
   "cell_type": "markdown",
   "id": "328e4647",
   "metadata": {},
   "source": [
    "# Minigrad Autodiff Engine\n",
    "\n",
    "Note to self: this project is self contained in the notebook and will include a basic MLP. Keep it as minimal as possible. This won't be shared with CNN / Transformer / Diffusion, those projects will use Pytorch autograd."
   ]
  }
 ],
 "metadata": {
  "language_info": {
   "name": "python"
  }
 },
 "nbformat": 4,
 "nbformat_minor": 5
}
