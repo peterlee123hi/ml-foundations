{
 "cells": [
  {
   "cell_type": "markdown",
   "id": "4b26d625",
   "metadata": {},
   "source": [
    "# Linear Regression\n",
    "\n",
    "This notebook builds a simple linear regression model.\n",
    "- Derives the MLE solution for estimating weights under Gaussian noise\n",
    "- Implements Bayesian inference with Gaussian priors\n",
    "- Visualizes predictive uncertainty from the posterior\n",
    "- Animates gradient descent optimization\n"
   ]
  },
  {
   "cell_type": "code",
   "execution_count": 1,
   "id": "1aa38830",
   "metadata": {},
   "outputs": [],
   "source": [
    "import numpy as np"
   ]
  },
  {
   "cell_type": "code",
   "execution_count": null,
   "id": "c8429dc3",
   "metadata": {},
   "outputs": [
    {
     "data": {
      "text/plain": [
       "np.float64(0.3520653267642995)"
      ]
     },
     "execution_count": 4,
     "metadata": {},
     "output_type": "execute_result"
    }
   ],
   "source": [
    "def gaussian_pdf(x, mu, sigma):\n",
    "    \"\"\"\n",
    "    Gaussian probability density function\n",
    "\n",
    "    Args:\n",
    "        x: point(s) to get the probability of generating from a normal distribution\n",
    "        mu: mean of the normal distribution\n",
    "        sigma: standard deviation of the normal distribution\n",
    "\n",
    "    Returns:\n",
    "        The probability density at x\n",
    "    \"\"\"\n",
    "    variance = sigma ** 2\n",
    "    coef = 1 / (np.sqrt(2 * np.pi * variance))\n",
    "    exponent = -((x - mu) ** 2 / (2 * variance))\n",
    "    return coef * np.exp(exponent)\n"
   ]
  }
 ],
 "metadata": {
  "kernelspec": {
   "display_name": ".venv",
   "language": "python",
   "name": "python3"
  },
  "language_info": {
   "codemirror_mode": {
    "name": "ipython",
    "version": 3
   },
   "file_extension": ".py",
   "mimetype": "text/x-python",
   "name": "python",
   "nbconvert_exporter": "python",
   "pygments_lexer": "ipython3",
   "version": "3.12.1"
  }
 },
 "nbformat": 4,
 "nbformat_minor": 5
}
